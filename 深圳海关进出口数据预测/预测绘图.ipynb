{
 "cells": [
  {
   "cell_type": "markdown",
   "metadata": {},
   "source": [
    "### 绘制进出口总额、进口总额、出口总额数据可视化对比曲线"
   ]
  },
  {
   "cell_type": "code",
   "execution_count": 1,
   "metadata": {},
   "outputs": [],
   "source": [
    "import matplotlib as mpl\n",
    "import matplotlib.pyplot as plt\n",
    "import pandas as pd\n",
    "\n",
    "mpl.rcParams['font.family'] = 'SimHei'\n",
    "mpl.rcParams['axes.unicode_minus'] = False\n",
    "%matplotlib inline"
   ]
  },
  {
   "cell_type": "code",
   "execution_count": 2,
   "metadata": {},
   "outputs": [],
   "source": [
    "df_total = pd.read_excel(\"深圳海关进出口数据2014~2026_ARIMA预测（总表）.xlsx\", sheet_name=\"进出口\")\n",
    "df_input = pd.read_excel(\"深圳海关进出口数据2014~2026_ARIMA预测（总表）.xlsx\", sheet_name=\"进口\")\n",
    "df_output = pd.read_excel(\"深圳海关进出口数据2014~2026_ARIMA预测（总表）.xlsx\", sheet_name=\"出口\")\n",
    "df_predict = pd.read_excel(\"深圳海关进出口数据2014~2026_ARIMA预测（总表）.xlsx\", sheet_name=\"预测总表\")"
   ]
  },
  {
   "cell_type": "code",
   "execution_count": 3,
   "metadata": {},
   "outputs": [
    {
     "name": "stdout",
     "output_type": "stream",
     "text": [
      "          日期  进出口总额（亿元人民币）     一阶差分  季节性差分         增长比\n",
      "0 2014-01-01       3927.40      NaN    NaN  （注：与上一月比较）\n",
      "1 2014-02-01       2785.90 -1141.50    NaN   -0.409742\n",
      "2 2014-03-01       3254.20   468.30    NaN    0.143906\n",
      "3 2014-04-01       3374.47   120.27    NaN    0.035641\n",
      "4 2014-05-01       3396.10    21.63    NaN    0.006369\n",
      "          日期  进口总额（亿元人民币）    一阶差分  季节性差分         增长比\n",
      "0 2014-01-01      1385.10     NaN    NaN  （注：与上一月比较）\n",
      "1 2014-02-01      1327.20  -57.90    NaN   -0.043626\n",
      "2 2014-03-01      1455.50  128.30    NaN    0.088148\n",
      "3 2014-04-01      1363.73  -91.77    NaN   -0.067293\n",
      "4 2014-05-01      1264.40  -99.33    NaN   -0.078559\n",
      "          日期  出口总额（亿元人民币）     一阶差分  季节性差分         增长比\n",
      "0 2014-01-01      2542.20      NaN    NaN  （注：与上一月比较）\n",
      "1 2014-02-01      1458.70 -1083.50    NaN   -0.742785\n",
      "2 2014-03-01      1798.70   340.00    NaN    0.189025\n",
      "3 2014-04-01      2010.74   212.04    NaN    0.105454\n",
      "4 2014-05-01      2131.80   121.06    NaN    0.056788\n",
      "          日期  进出口总额（亿元人民币）  进口总额（亿元人民币）  出口总额（亿元人民币）\n",
      "0 2025-01-01   5350.541225  1736.681636  3573.175532\n",
      "1 2025-02-01   4298.642905  1525.309451  2709.095642\n",
      "2 2025-03-01   5194.355684  1858.806953  3309.810960\n",
      "3 2025-04-01   5430.176862  1850.651264  3554.779507\n",
      "4 2025-05-01   5395.857362  1777.599815  3588.291766\n"
     ]
    }
   ],
   "source": [
    "print(df_total.head(5))\n",
    "print(df_input.head(5))\n",
    "print(df_output.head(5))\n",
    "print(df_predict.head(5))"
   ]
  },
  {
   "cell_type": "code",
   "execution_count": null,
   "metadata": {},
   "outputs": [],
   "source": []
  },
  {
   "cell_type": "code",
   "execution_count": null,
   "metadata": {},
   "outputs": [],
   "source": []
  },
  {
   "cell_type": "markdown",
   "metadata": {},
   "source": []
  },
  {
   "cell_type": "code",
   "execution_count": null,
   "metadata": {},
   "outputs": [],
   "source": []
  }
 ],
 "metadata": {
  "kernelspec": {
   "display_name": "ip311",
   "language": "python",
   "name": "python3"
  },
  "language_info": {
   "codemirror_mode": {
    "name": "ipython",
    "version": 3
   },
   "file_extension": ".py",
   "mimetype": "text/x-python",
   "name": "python",
   "nbconvert_exporter": "python",
   "pygments_lexer": "ipython3",
   "version": "3.11.0"
  }
 },
 "nbformat": 4,
 "nbformat_minor": 2
}
