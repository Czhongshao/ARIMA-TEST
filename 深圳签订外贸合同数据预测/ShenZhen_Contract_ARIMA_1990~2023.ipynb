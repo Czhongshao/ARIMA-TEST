{
 "cells": [
  {
   "cell_type": "markdown",
   "metadata": {},
   "source": [
    "# 深圳签订外贸合同量预测ARIMA模型\n",
    "\n",
    "## 使用到的模块及其安装\n",
    "\n",
    " - Python version: 3.11.0\n",
    " - Pandas version: 2.2.3\n",
    "    - pip install pandas==2.2.3\n",
    " - Matplotlib version: 3.10.1\n",
    "    - pip install matplotlib==3.10.1\n",
    " - Statsmodels version:\n",
    "    - pip install statsmodels==0.14.4"
   ]
  },
  {
   "cell_type": "code",
   "execution_count": null,
   "metadata": {},
   "outputs": [],
   "source": [
    "import pandas as pd\n",
    "from pandas.plotting import autocorrelation_plot\n",
    "from pandas.tseries.offsets import DateOffset\n",
    "from statsmodels.tsa.stattools import adfuller\n",
    "from statsmodels.graphics.tsaplots import plot_acf,plot_pacf\n",
    "from statsmodels.tsa.arima.model import ARIMA\n",
    "import statsmodels.api as sm\n",
    "import matplotlib as mpl\n",
    "mpl.rcParams['font.family'] = 'SimHei'\n",
    "mpl.rcParams['axes.unicode_minus'] = False\n",
    "import matplotlib.pyplot as plt\n",
    "%matplotlib inline"
   ]
  },
  {
   "cell_type": "code",
   "execution_count": null,
   "metadata": {},
   "outputs": [],
   "source": [
    "df=pd.read_excel('深圳签订外贸合同项数数据1990~2023.xlsx')\n",
    "\n",
    "# 获取全部的列名列表\n",
    "# all_columns = df.columns.tolist()\n",
    "# print(all_columns)\n",
    "\n",
    "# 输入一个需要预测的国家或地区\n",
    "\"\"\"\n",
    "    '中国香港、澳门', '中国台湾', '新加坡', '韩国', '日本', \n",
    "    '泰国', '澳大利亚', '马来西亚', '美国', '加拿大', \n",
    "    '德国', '法国', '英国', '瑞士', '荷兰', '其他'\n",
    "\"\"\"\n",
    "need_to_predict = str(input(\"请输入您需要预测的国家：\"))\n",
    "# print(need_to_predict)\n",
    "\n",
    "# 保留单一列数据，用于预测。这里以用户指定的国家/地区为例（'中国香港、澳门'）。\n",
    "df_total = df[['时间', need_to_predict]].copy()\n",
    "\n",
    "print('原数据预览：\\n', df.head())\n",
    "print('保留后数据预览：\\n', df_total.head())"
   ]
  },
  {
   "cell_type": "markdown",
   "metadata": {},
   "source": [
    "## 进出口总额预测处理"
   ]
  },
  {
   "cell_type": "code",
   "execution_count": null,
   "metadata": {},
   "outputs": [],
   "source": [
    "# 修改列标题\n",
    "df_total.columns = [\"日期\", need_to_predict]\n",
    "# 转化时间数据为 datetime 对象\n",
    "df_total['日期'] = pd.to_datetime(df_total['日期'], format='%Y')\n",
    "\n",
    "# 设置时间索引\n",
    "df_total.set_index('日期', inplace=True)\n",
    "df_total.head()"
   ]
  },
  {
   "cell_type": "code",
   "execution_count": null,
   "metadata": {},
   "outputs": [],
   "source": [
    "# 获取数据描述\n",
    "df_total.describe()"
   ]
  },
  {
   "cell_type": "code",
   "execution_count": null,
   "metadata": {},
   "outputs": [],
   "source": [
    "# 原始数据可视化绘图\n",
    "df_total.plot(kind='line', marker='o')\n",
    "plt.ylabel('签订数/项')\n",
    "plt.show()"
   ]
  },
  {
   "cell_type": "code",
   "execution_count": null,
   "metadata": {},
   "outputs": [],
   "source": [
    "# ADF 检验函数\n",
    "# H0：它是非平稳的  \n",
    "# H1：它是平稳的\n",
    "def adfuller_test(sales):\n",
    "    result=adfuller(sales)\n",
    "    labels = ['ADF检验统计量', 'p值', '使用的滞后数', '使用的观测值数量']\n",
    "    for value,label in zip(result,labels):\n",
    "        print(label+' : '+str(value) )\n",
    "    if result[1] <= 0.05:\n",
    "        print(\"反对原假设(H0)的有力证据，否定原假设。数据没有单位根，并且是平稳的。\")\n",
    "    else:\n",
    "        print(\"反对零假设的弱证据，时间串行有一个单位根，表明它是非平稳的。\")"
   ]
  },
  {
   "cell_type": "code",
   "execution_count": null,
   "metadata": {},
   "outputs": [],
   "source": [
    "# ADF 检验1：原始数据平稳\n",
    "adfuller_test(df_total[need_to_predict])"
   ]
  },
  {
   "cell_type": "code",
   "execution_count": null,
   "metadata": {},
   "outputs": [],
   "source": [
    "# 差分操作\n",
    "df_total['一阶差分'] = df_total[need_to_predict] - df_total[need_to_predict].shift(1)   # 一阶差分\n",
    "df_total.head(14)"
   ]
  },
  {
   "cell_type": "code",
   "execution_count": null,
   "metadata": {},
   "outputs": [],
   "source": [
    "# ADF 检验2：经过差分处理后比未处理前效果更好\n",
    "print(\"一阶差分：\")\n",
    "adfuller_test(df_total['一阶差分'].dropna())"
   ]
  },
  {
   "cell_type": "code",
   "execution_count": null,
   "metadata": {},
   "outputs": [],
   "source": [
    "# 绘制可视化图像\n",
    "df_total['一阶差分'].plot(kind='line', marker='o')\n",
    "plt.ylabel('差分数/项')\n",
    "plt.show()"
   ]
  },
  {
   "cell_type": "markdown",
   "metadata": {},
   "source": [
    "### 自动回归模型\n",
    "\n",
    "\n",
    "自回归模型（AR模型）的一般形式：\n",
    "\n",
    "$$ y_t = c + \\phi_1 y_{t-1} + \\phi_2 y_{t-2} + \\cdots + \\phi_p y_{t-p} + \\varepsilon_t $$\n",
    "\n",
    "其中：\n",
    "- $ y_t $ 是时间序列在时间 t 的值。\n",
    "- $ c $ 是常数项。\n",
    "- $ \\phi_1, \\phi_2, \\ldots, \\phi_p $ 是模型参数，分别代表不同滞后项的系数。\n",
    "- $ y_{t-1}, y_{t-2}, \\ldots, y_{t-p} $ 是时间序列在 t-1, t-2, ..., t-p 时刻的值，即滞后项。\n",
    "- $ \\varepsilon_t $ 是误差项，通常假设为白噪声序列。\n",
    "- $ p $ 是模型的阶数，表示考虑的滞后项的数量。"
   ]
  },
  {
   "cell_type": "code",
   "execution_count": null,
   "metadata": {},
   "outputs": [],
   "source": [
    "# 绘制自相关图\n",
    "autocorrelation_plot(df_total[need_to_predict])\n",
    "plt.show()"
   ]
  },
  {
   "cell_type": "code",
   "execution_count": null,
   "metadata": {},
   "outputs": [],
   "source": [
    "fig1 = plt.figure(figsize=(12,8))\n",
    "ax1 = fig1.add_subplot(211)\n",
    "fig1 = plot_acf(df_total['一阶差分'].iloc[1:], lags=30, ax=ax1)   # 绘制自相关函数（ACF）图\n",
    "ax2 = fig1.add_subplot(212)\n",
    "fig1 = plot_pacf(df_total['一阶差分'].iloc[1:], lags=16, ax=ax2)  # 偏自相关函数（PACF）图"
   ]
  },
  {
   "cell_type": "markdown",
   "metadata": {},
   "source": [
    "### 拟合"
   ]
  },
  {
   "cell_type": "code",
   "execution_count": null,
   "metadata": {},
   "outputs": [],
   "source": [
    "# 二阶差分ARIMA模型\n",
    "# 使用ARIMA模型对数据进行建模，其中包含一阶差分以使数据平稳\n",
    "model_one = ARIMA(df_total[need_to_predict], order=(1, 2, 1))\n",
    "one_fit = model_one.fit()\n",
    "\n",
    "# 使用拟合后的模型进行预测\n",
    "df_total['预测数据'] = one_fit.predict(start=25, end=35, dynamic=True)\n",
    "df_total[[need_to_predict, '预测数据']].plot(figsize=(6, 4))"
   ]
  },
  {
   "cell_type": "code",
   "execution_count": null,
   "metadata": {},
   "outputs": [],
   "source": [
    "future_dates=[df_total.index[-1]+ DateOffset(years=x)for x in range(1, 11)]\n",
    "future_datest_df=pd.DataFrame(index=future_dates[0:],columns=df_total.columns)"
   ]
  },
  {
   "cell_type": "code",
   "execution_count": null,
   "metadata": {},
   "outputs": [],
   "source": [
    "# 一阶差分ARIMA模型的拟合效果更佳\n",
    "future_df=pd.concat([df_total,future_datest_df])\n",
    "future_df['预测数据'] = one_fit.predict(start = 34, end = 46, dynamic= True)\n",
    "future_df.tail()"
   ]
  },
  {
   "cell_type": "code",
   "execution_count": null,
   "metadata": {},
   "outputs": [],
   "source": [
    "future_df[[need_to_predict, '预测数据']].plot(figsize=(12, 8), kind='line', marker='o') \n",
    "plt.ylabel('签订数/项')\n",
    "plt.show()"
   ]
  },
  {
   "cell_type": "code",
   "execution_count": null,
   "metadata": {},
   "outputs": [],
   "source": [
    "# 保存时间和预测数据列到Excel文件\n",
    "future_df.to_excel(f'end_out({need_to_predict}).xlsx')"
   ]
  },
  {
   "cell_type": "code",
   "execution_count": null,
   "metadata": {},
   "outputs": [],
   "source": []
  }
 ],
 "metadata": {
  "kernelspec": {
   "display_name": "ip311",
   "language": "python",
   "name": "python3"
  },
  "language_info": {
   "codemirror_mode": {
    "name": "ipython",
    "version": 3
   },
   "file_extension": ".py",
   "mimetype": "text/x-python",
   "name": "python",
   "nbconvert_exporter": "python",
   "pygments_lexer": "ipython3",
   "version": "3.11.0"
  }
 },
 "nbformat": 4,
 "nbformat_minor": 2
}
